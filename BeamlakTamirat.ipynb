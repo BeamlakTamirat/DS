{
  "nbformat": 4,
  "nbformat_minor": 0,
  "metadata": {
    "colab": {
      "provenance": [],
      "authorship_tag": "ABX9TyNUPBwzGuCP9jeRBTObP0/3",
      "include_colab_link": true
    },
    "kernelspec": {
      "name": "python3",
      "display_name": "Python 3"
    },
    "language_info": {
      "name": "python"
    }
  },
  "cells": [
    {
      "cell_type": "markdown",
      "metadata": {
        "id": "view-in-github",
        "colab_type": "text"
      },
      "source": [
        "<a href=\"https://colab.research.google.com/github/BeamlakTamirat/DS/blob/main/BeamlakTamirat.ipynb\" target=\"_parent\"><img src=\"https://colab.research.google.com/assets/colab-badge.svg\" alt=\"Open In Colab\"/></a>"
      ]
    },
    {
      "cell_type": "markdown",
      "source": [
        "**1.** **What is the difference between a list, a dictionary, and a NumPy array? Give one example of each.** **bold text**"
      ],
      "metadata": {
        "id": "pAoD13HoupQC"
      }
    },
    {
      "cell_type": "markdown",
      "source": [
        "**List**: An ordered, mutable collection that can store elements of different data types. Lists use integer indices for element access and allow duplicate values."
      ],
      "metadata": {
        "id": "DzK9vncAzdCc"
      }
    },
    {
      "cell_type": "code",
      "source": [
        "# List example\n",
        "my_list = [1, 'apple', True, 3.14]"
      ],
      "metadata": {
        "id": "ocHvpPNAzy9b"
      },
      "execution_count": 3,
      "outputs": []
    },
    {
      "cell_type": "markdown",
      "source": [
        "**Dictionary:** An unordered collection of key-value pairs where each key must be unique. Dictionaries provide fast lookups by key and are mutable."
      ],
      "metadata": {
        "id": "_S_C7p26z9DX"
      }
    },
    {
      "cell_type": "code",
      "source": [
        "# Dictionary example\n",
        "my_dict = {'name': 'Alice', 'age': 25, 'city': 'New York'}"
      ],
      "metadata": {
        "id": "_5WLcwBx0Lzx"
      },
      "execution_count": null,
      "outputs": []
    },
    {
      "cell_type": "markdown",
      "source": [
        "**NumPy array:** A homogeneous, fixed-size multidimensional array optimized for numerical computations. NumPy arrays enable efficient mathematical operations and broadcasting across dimensions."
      ],
      "metadata": {
        "id": "JF7hExvq0RBR"
      }
    },
    {
      "cell_type": "code",
      "source": [
        "# NumPy array example\n",
        "import numpy as np\n",
        "my_array = np.array([1, 2, 3, 4, 5])"
      ],
      "metadata": {
        "id": "ByrqoqeX0WVL"
      },
      "execution_count": null,
      "outputs": []
    },
    {
      "cell_type": "markdown",
      "source": [
        "**2. Given the list [10, 15, 20, 25, 30], write a function that returns the square of only even numbers.**"
      ],
      "metadata": {
        "id": "07QC5e5N0fkZ"
      }
    },
    {
      "cell_type": "markdown",
      "source": [
        "first i will create a function which filters out only the even numbers those divisible  by 2, and returns a new list containing the squares of those even numbers."
      ],
      "metadata": {
        "id": "4uMN0P8039wS"
      }
    },
    {
      "cell_type": "code",
      "source": [
        "def sqeven(numbers):\n",
        "    return [num**2 for num in numbers if num % 2 == 0]\n",
        "\n",
        "# Test with given list\n",
        "result = sqeven([10, 15, 20, 25, 30])\n",
        "print(result)  # Output: [100, 400, 900]"
      ],
      "metadata": {
        "id": "7TRv1Ceb4XHx"
      },
      "execution_count": null,
      "outputs": []
    },
    {
      "cell_type": "markdown",
      "source": [
        "**3. What does the following code output, and why?**   x = [1, 2, 3]  , y = x ,\n",
        "  y.append(4),     print(x)\n"
      ],
      "metadata": {
        "id": "gR_Xbz5N4f7j"
      }
    },
    {
      "cell_type": "code",
      "source": [
        "x = [1, 2, 3]\n",
        "y = x\n",
        "y.append(4)\n",
        "print(x)\n",
        "\n",
        "#The answer will be :\n",
        "[1, 2, 3, 4]"
      ],
      "metadata": {
        "id": "yP5EkHZN5UoW"
      },
      "execution_count": null,
      "outputs": []
    },
    {
      "cell_type": "markdown",
      "source": [
        "The code outputs [1, 2, 3, 4] because in Python, variable assignment (y = x) creates a reference to the same object, not a copy. When we modify the list through y.append(4), we're changing the single list object that both variables point to. This behavior is called aliasing - both x and y are aliases referring to the identical list in memory."
      ],
      "metadata": {
        "id": "0sggrl2Z5nrS"
      }
    },
    {
      "cell_type": "markdown",
      "source": [
        "**4. What does .shape and .describe() tell you about a pandas DataFrame? Show using an example.**"
      ],
      "metadata": {
        "id": "XYcJOlNC5rZJ"
      }
    },
    {
      "cell_type": "markdown",
      "source": [
        "They provide different information about a pandas DataFrame:\n",
        "\n",
        "***.shape***  :   returns a tuple representing the dimensions of the DataFrame (rows, columns).\n",
        "\n",
        "***.describe()***   :  generates summary statistics of the DataFrame's numerical columns, including count, mean, standard deviation, minimum, quartiles, and maximum values.\n",
        "\n",
        "We can see the following example:"
      ],
      "metadata": {
        "id": "-iLaaT8Z53fi"
      }
    },
    {
      "cell_type": "code",
      "source": [
        "import pandas as pd\n",
        "import numpy as np\n",
        "\n",
        "# Create a sample DataFrame\n",
        "df = pd.DataFrame({\n",
        "    'age': [25, 30, 35, 40, 45],\n",
        "    'salary': [50000, 60000, 75000, 90000, 100000],\n",
        "    'experience': [1, 3, 5, 10, 15],\n",
        "    'department': ['HR', 'IT', 'Finance', 'IT', 'Marketing']\n",
        "})\n",
        "\n",
        "# Get the shape\n",
        "print(\"DataFrame shape:\", df.shape)\n",
        "# Output: DataFrame shape: (5, 4) - meaning 5 rows and 4 columns\n",
        "\n",
        "# Get the summary statistics\n",
        "print(\"\\nDataFrame description:\")\n",
        "print(df.describe())\n",
        "# Output: Summary statistics for numerical columns (age, salary, experience)\n",
        "# showing count, mean, std, min, 25%, 50%, 75%, max for each"
      ],
      "metadata": {
        "id": "HtECoALe6-ne"
      },
      "execution_count": null,
      "outputs": []
    },
    {
      "cell_type": "markdown",
      "source": [
        "\n",
        "\n",
        "5. Load this CSV: airtravel.csv\n",
        "Print the first 5 rows\n",
        "What do you notice about the data?\n"
      ],
      "metadata": {
        "id": "LCmIZ4hL8Kve"
      }
    },
    {
      "cell_type": "markdown",
      "source": [
        "There is air travel data for the years 1958, 1959, and 1960, broken down by month. The data appears to show passenger numbers for each month across these three years.\n",
        "\n"
      ],
      "metadata": {
        "id": "-yTbtax7-BqR"
      }
    },
    {
      "cell_type": "code",
      "source": [
        "import pandas as pd\n",
        "\n",
        "# Load the CSV file\n",
        "df = pd.read_csv('airtravel.csv')\n",
        "\n",
        "# Print the first 5 rows\n",
        "print(df.head(5))"
      ],
      "metadata": {
        "id": "-bxiFiYw-irn"
      },
      "execution_count": null,
      "outputs": []
    },
    {
      "cell_type": "code",
      "source": [
        "#the output looks:\n",
        "\n",
        "#   Month  1958  1959  1960\n",
        "#0   JAN   340   360   417\n",
        "#1   FEB   318   342   391\n",
        "#2   MAR   362   406   419\n",
        "#3   APR   348   396   461\n",
        "#4   MAY   363   420   472"
      ],
      "metadata": {
        "id": "FPYFdRJ--shI"
      },
      "execution_count": null,
      "outputs": []
    },
    {
      "cell_type": "markdown",
      "source": [
        "From the data, I notice:\n",
        "\n",
        "1-*It contains monthly air travel passenger numbers for three consecutive years (1958-1960)*\n",
        "\n",
        "2-*There appears to be a general upward trend in passenger numbers year over year*\n",
        "\n",
        "3-*There's seasonal variation, with summer months (especially July and August) showing higher passenger numbers than winter months*\n",
        "\n",
        "4-*Each year shows higher numbers than the previous year for the same month, suggesting growth in air travel during this period*"
      ],
      "metadata": {
        "id": "pr85LRAL_Vcc"
      }
    },
    {
      "cell_type": "markdown",
      "source": [
        "6.Load the CSV from Q5 and find:\n",
        "  The month with the highest total passengers\n",
        "  The month with the lowest in 1958"
      ],
      "metadata": {
        "id": "65nuYlCT_-en"
      }
    },
    {
      "cell_type": "code",
      "source": [
        "#There is data in columns for Month, 1958, 1959, and 1960\n",
        "Month\t1958\t1959\t1960\n",
        "JAN\t  340\t  360 \t417\n",
        "FEB\t  318\t  342\t  391\n",
        "MAR\t  362\t  406\t  419\n",
        "APR\t  348\t  396\t  461\n",
        "MAY\t  363 \t420\t  472\n",
        "JUN\t  435\t  472\t  535\n",
        "JUL\t  491\t  548\t  622\n",
        "AUG\t  505\t  559\t  606\n",
        "SEP\t  404\t  463\t  508\n",
        "OCT\t  359\t  407\t  461\n",
        "NOV\t  310\t  362\t  390\n",
        "DEC\t  337\t  405\t  432"
      ],
      "metadata": {
        "id": "VeD_u-51Ded_"
      },
      "execution_count": null,
      "outputs": []
    },
    {
      "cell_type": "code",
      "source": [
        "\n",
        "#First load data in the csv file\n",
        "import pandas as pd\n",
        "\n",
        "# Load the CSV file\n",
        "df = pd.read_csv(\"airtravel.csv\", header=0, index_col=False)\n",
        "\n"
      ],
      "metadata": {
        "id": "csoce938FGiX"
      },
      "execution_count": null,
      "outputs": []
    },
    {
      "cell_type": "markdown",
      "source": [
        "**A-Month with the Highest Total Passengers (Summing Across Years)**\n",
        "\n",
        "1-Compute a total for each row (month) by summing 1958, 1959, and 1960 columns:"
      ],
      "metadata": {
        "id": "UWPzbykAFW_1"
      }
    },
    {
      "cell_type": "code",
      "source": [
        "df['Total'] = df['1958'] + df['1959'] + df['1960']"
      ],
      "metadata": {
        "id": "1k8lOqzBFrLC"
      },
      "execution_count": null,
      "outputs": []
    },
    {
      "cell_type": "markdown",
      "source": [
        "2-Identify which month has the highest total:"
      ],
      "metadata": {
        "id": "VZz4qhCsFv5k"
      }
    },
    {
      "cell_type": "code",
      "source": [
        "max_idx = df['Total'].idxmax()  # gets the index of the row with the highest total\n",
        "month_with_highest_total = df.loc[max_idx, 'Month']\n",
        "max_total_value = df.loc[max_idx, 'Total']\n"
      ],
      "metadata": {
        "id": "ra65kWkfFzjR"
      },
      "execution_count": null,
      "outputs": []
    },
    {
      "cell_type": "markdown",
      "source": [
        "\n",
        "\n",
        "If you examine the raw data, the highest total is August with 505 + 559 + 606 =** 1670.**\n"
      ],
      "metadata": {
        "id": "ZkXQ-ZPNF7fw"
      }
    },
    {
      "cell_type": "markdown",
      "source": [
        "**B-Month with the Lowest in 1958**\n",
        "Locate the row with the minimum 1958 value:"
      ],
      "metadata": {
        "id": "F4B8RtsUGAM6"
      }
    },
    {
      "cell_type": "code",
      "source": [
        "min1958_idx = df['1958'].idxmin()\n",
        "month_with_lowest_1958 = df.loc[min1958_idx, 'Month']\n",
        "min_1958_value = df.loc[min1958_idx, '1958']\n"
      ],
      "metadata": {
        "id": "VGLAF6lVGglL"
      },
      "execution_count": null,
      "outputs": []
    },
    {
      "cell_type": "markdown",
      "source": [
        "**Finally, the Answers are** :\n",
        "\n",
        "A-Month with the highest total passengers: **AUG**\n",
        "\n",
        "B-Month with the lowest in 1958: **NOV**"
      ],
      "metadata": {
        "id": "GqJ6h6w7G2tV"
      }
    },
    {
      "cell_type": "markdown",
      "source": [
        "7.  **What does the .groupby() function do in pandas? Show an example using dummy data.**\n",
        "\n",
        "\n",
        "The groupby() function in pandas allows you to split your DataFrame into groups based on some criteria (one or more columns), apply a function (e.g., sum, mean, count) to each group, and then combine the results into a new DataFrame or Series. It follows the “split → apply → combine” paradigm.\n",
        "\n",
        "Example with dummy data:"
      ],
      "metadata": {
        "id": "Kfg_zrd3HJcc"
      }
    },
    {
      "cell_type": "code",
      "source": [
        "import pandas as pd\n",
        "\n",
        "# Create a small DataFrame\n",
        "data = {\n",
        "    'Category': ['A', 'A', 'B', 'B', 'C', 'A'],\n",
        "    'Values': [10, 20, 5, 15, 10, 30],\n",
        "    'OtherInfo': [1, 2, 3, 4, 5, 6]\n",
        "}\n",
        "\n",
        "df_dummy = pd.DataFrame(data)\n",
        "print(\"Original DataFrame:\")\n",
        "print(df_dummy)\n",
        "\n",
        "# Use groupby to sum Values per Category\n",
        "grouped_df = df_dummy.groupby('Category')['Values'].sum()\n",
        "print(\"\\nSum of 'Values' for each 'Category':\")\n",
        "print(grouped_df)\n"
      ],
      "metadata": {
        "id": "MzTM7HJvHpdM"
      },
      "execution_count": null,
      "outputs": []
    },
    {
      "cell_type": "markdown",
      "source": [
        "8. Load the Titanic dataset from seaborn and:\n",
        "\n",
        "  Count how many missing values are in each column  "
      ],
      "metadata": {
        "id": "POf6sijVIlHo"
      }
    },
    {
      "cell_type": "markdown",
      "source": [
        "a steps to load the Titanic dataset from seaborn and count missing values in each column:"
      ],
      "metadata": {
        "id": "y4w5lKdUJ6uW"
      }
    },
    {
      "cell_type": "code",
      "source": [
        "import seaborn as sns\n",
        "import pandas as pd\n",
        "\n",
        "# Load the Titanic dataset\n",
        "titanic = sns.load_dataset('titanic')\n",
        "\n",
        "# Count missing values in each column\n",
        "missing_values = titanic.isnull().sum()\n",
        "\n",
        "print(\"\\nMissing values per column:\")\n",
        "print(missing_values)"
      ],
      "metadata": {
        "id": "bFV0138cKMjk"
      },
      "execution_count": null,
      "outputs": []
    },
    {
      "cell_type": "markdown",
      "source": [
        "9.  Use df[\"Age\"].hist() to visualize the age distribution.What shape do you see?What might be the reason for the skew?\n",
        "\n",
        "----------------------------------------------\n",
        "\n",
        "To visualize the age distribution using df[\"Age\"].hist(), you would typically observe a **HISTOGRAM.** The shape of the histogram can vary, but common patterns include:\n",
        "\n",
        "    1-Normal Distribution: A bell-shaped curve, indicating most ages cluster around a central value.\n",
        "\n",
        "    2-Right Skew (Positive Skew): A longer tail on the right side, meaning more younger individuals and fewer older individuals.\n",
        "\n",
        "    3-Left Skew (Negative Skew): A longer tail on the left side, indicating more older individuals with fewer younger individuals.\n",
        "\n",
        "**Reasons for Skew**\n",
        "\n",
        "    **Right Skew:** This is common in populations where younger individuals are more numerous, such as in student populations or communities with high birth rates.\n",
        "\n",
        "    **Left Skew:** This might occur in aging populations where older individuals are more prevalent, potentially due to higher life expectancy.\n",
        "\n",
        "**Factors Influencing Skew**\n",
        "\n",
        "    **Demographics: **Age distributions can reflect the demographics of a region or population.\n",
        "\n",
        "    **Health Factors:** Access to healthcare and lifestyle can influence age distribution.\n",
        "\n",
        "    **Socioeconomic Factors:** Economic opportunities may attract younger people, skewing the distribution right."
      ],
      "metadata": {
        "id": "IzTLJB8vLn5w"
      }
    },
    {
      "cell_type": "code",
      "source": [
        "#A short code snippet to generate the histogram and add labels for clarity:\n",
        "\n",
        "import seaborn as sns\n",
        "import matplotlib.pyplot as plt\n",
        "\n",
        "# Load the Titanic dataset\n",
        "df = sns.load_dataset(\"titanic\")\n",
        "\n",
        "# Plot the histogram for the 'Age' column\n",
        "plt.figure(figsize=(8, 6))\n",
        "plt.hist(df[\"age\"].dropna(), bins=30, color='skyblue', edgecolor='black')\n",
        "plt.title(\"Age Distribution of Titanic Passengers\")\n",
        "plt.xlabel(\"Age\")\n",
        "plt.ylabel(\"Frequency\")\n",
        "plt.show()\n"
      ],
      "metadata": {
        "id": "wzuuoO5mM987"
      },
      "execution_count": null,
      "outputs": []
    },
    {
      "cell_type": "markdown",
      "source": [
        "-----------------------------------------------\n",
        "\n",
        "10. What does it mean if a column has a high standard deviation?Create a list or column that has a low and a high std. dev, and compare."
      ],
      "metadata": {
        "id": "sG0_bNfINZ-d"
      }
    },
    {
      "cell_type": "markdown",
      "source": [
        "A high standard deviation indicates that the data points in a column are spread out widely from the mean (average). This suggests significant variability, diversity, or potential outliers in the dataset. Conversely, a low standard deviation means the data points cluster closely around the mean, showing consistency.\n",
        "\n",
        "->Examples:\n",
        "\n",
        "**Low Standard Deviation**\n",
        "Data: [4, 5, 5, 4, 5]\n",
        "\n",
        "    Mean: 4.6\n",
        "\n",
        "    Standard Deviation: ~0.55\n",
        "\n",
        "    Explanation: Most values are close to the mean (4.6), showing minimal spread.\n",
        "\n",
        "**High Standard Deviation**\n",
        "Data: [1, 9, 2, 8, 0]\n",
        "\n",
        "    Mean: 4.0\n",
        "\n",
        "    Standard Deviation: ~4.18\n",
        "\n",
        "    Explanation: Values range widely from 0 to 9, far from the mean (4.0).\n"
      ],
      "metadata": {
        "id": "KD8BUZoDONet"
      }
    },
    {
      "cell_type": "code",
      "source": [
        "#High Standard Dev: Signals diverse data, potential outliers, or unpredictability (e.g., risky investments).\n",
        "\n",
        "#Low Standard Dev: Indicates uniformity and reliability (e.g., consistent manufacturing processes).\n",
        "\n"
      ],
      "metadata": {
        "id": "uxJid_-JO7z1"
      },
      "execution_count": null,
      "outputs": []
    },
    {
      "cell_type": "markdown",
      "source": [
        "11.**What are some real-world problems where missing data might affect results? Give 2 examples.**"
      ],
      "metadata": {
        "id": "IU70IlvIP7HX"
      }
    },
    {
      "cell_type": "markdown",
      "source": [
        "Missing data can distort analysis, lead to biased conclusions, and reduce the reliability of models. Here are two critical examples:"
      ],
      "metadata": {
        "id": "PrAuOBqOP9fp"
      }
    },
    {
      "cell_type": "markdown",
      "source": [
        "1. Healthcare: Clinical Trials\n",
        "\n",
        "--------------------------------\n",
        "Context: A study testing a new drug’s effectiveness might exclude patients with incomplete medical histories (e.g., missing blood pressure readings or unreported pre-existing conditions).\n",
        "\n",
        "Problem: If data is missing for high-risk patients, the trial results could falsely suggest the drug is safer or more effective than it truly is.\n",
        "\n",
        "Impact: Regulatory approval based on flawed data might endanger patients in real-world use."
      ],
      "metadata": {
        "id": "P1dLMvTvQUDM"
      }
    },
    {
      "cell_type": "markdown",
      "source": [
        "2. Finance: Credit Scoring\n",
        "-----\n",
        "Context: Banks use credit history, income, and employment data to assess loan eligibility.\n",
        "\n",
        "Problem: Missing income or employment records (e.g., self-employed applicants not reporting earnings) can skew risk models.\n",
        "\n",
        "Impact: Lenders might approve high-risk borrowers or reject creditworthy ones, leading to financial losses or unfair denials."
      ],
      "metadata": {
        "id": "QMT-FSROQseU"
      }
    },
    {
      "cell_type": "code",
      "source": [
        "\n",
        "\n",
        "\n",
        "\n",
        "\n",
        "\n",
        "\n",
        "\n",
        "\n",
        "\n",
        "# This task has reinforced my belief that this bootcamp is precisely what I need to advance my skills, and I am confident that being a part of it will enable me to achieve even greater success in my career."
      ],
      "metadata": {
        "id": "1oPNaljVRGkq"
      },
      "execution_count": null,
      "outputs": []
    }
  ]
}